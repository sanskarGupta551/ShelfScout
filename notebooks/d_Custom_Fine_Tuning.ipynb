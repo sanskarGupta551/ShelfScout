{
 "cells": [
  {
   "cell_type": "markdown",
   "id": "82eff2fe",
   "metadata": {},
   "source": [
    "# **ShelfScout: `YOLOv8` Custom Fine Tuning**"
   ]
  },
  {
   "cell_type": "markdown",
   "id": "21a0b0c0",
   "metadata": {},
   "source": [
    "***\n",
    "***"
   ]
  },
  {
   "cell_type": "markdown",
   "id": "20292ccc",
   "metadata": {},
   "source": [
    "***\n",
    "***"
   ]
  },
  {
   "cell_type": "code",
   "execution_count": null,
   "id": "2a597fdb",
   "metadata": {
    "vscode": {
     "languageId": "plaintext"
    }
   },
   "outputs": [],
   "source": []
  }
 ],
 "metadata": {
  "language_info": {
   "name": "python"
  }
 },
 "nbformat": 4,
 "nbformat_minor": 5
}
