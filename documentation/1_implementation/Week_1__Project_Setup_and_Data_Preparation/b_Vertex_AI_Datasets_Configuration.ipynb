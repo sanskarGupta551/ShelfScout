{
 "cells": [
  {
   "cell_type": "markdown",
   "id": "5872ef41-f887-4b11-8b70-2924d1f3ec10",
   "metadata": {},
   "source": [
    "# SKU110k Dataset: Configuring Vertex AI Datasets"
   ]
  },
  {
   "cell_type": "markdown",
   "id": "8b5d49d5-7111-4d9c-8a30-e22ea570b201",
   "metadata": {},
   "source": [
    "### 1. Import Required Libraries"
   ]
  },
  {
   "cell_type": "code",
   "execution_count": 1,
   "id": "0ff64b08-efb1-413b-ad27-ad17cb10a92b",
   "metadata": {},
   "outputs": [],
   "source": [
    "import os\n",
    "from google.cloud import aiplatform\n",
    "from google.cloud import storage\n",
    "import time"
   ]
  },
  {
   "cell_type": "markdown",
   "id": "184d5768-bc6a-4f3f-8612-774d4c77fc59",
   "metadata": {},
   "source": [
    "### 2. Initialize Vertex AI"
   ]
  },
  {
   "cell_type": "code",
   "execution_count": 2,
   "id": "2bc75bfc-d77c-4c95-be1d-62c41fc12704",
   "metadata": {},
   "outputs": [],
   "source": [
    "PROJECT_ID = \"shelfscout\"\n",
    "REGION = \"us-central1\"\n",
    "BUCKET_NAME = \"sku-110k-dataset\"\n",
    "\n",
    "# Initialize Vertex AI SDK\n",
    "aiplatform.init(project=PROJECT_ID, location=REGION)"
   ]
  },
  {
   "cell_type": "markdown",
   "id": "f3d1205a-7af4-4078-96ef-e0666758c684",
   "metadata": {},
   "source": [
    "### 3. Clean up any existing datasets first"
   ]
  },
  {
   "cell_type": "code",
   "execution_count": 3,
   "id": "73e61a71-3d02-4ba8-8db6-7f8e75a921c1",
   "metadata": {},
   "outputs": [
    {
     "name": "stdout",
     "output_type": "stream",
     "text": [
      "Checking for existing datasets to clean up...\n",
      "Cleanup complete\n"
     ]
    }
   ],
   "source": [
    "print(\"Checking for existing datasets to clean up...\")\n",
    "datasets = aiplatform.ImageDataset.list()\n",
    "for ds in datasets:\n",
    "    if ds.display_name in [\"SKU110K-Dataset\", \"SKU110K-Train\", \"SKU110K-Validation\", \"SKU110K-Test\"]:\n",
    "        print(f\"Deleting existing dataset: {ds.display_name}\")\n",
    "        ds.delete()\n",
    "\n",
    "# Wait a moment to ensure deletion completes\n",
    "time.sleep(5)\n",
    "print(\"Cleanup complete\")"
   ]
  },
  {
   "cell_type": "markdown",
   "id": "12ae4263-aa59-4f39-a617-44005021a768",
   "metadata": {},
   "source": [
    "### 4. Create the Dataset"
   ]
  },
  {
   "cell_type": "code",
   "execution_count": 4,
   "id": "120a8f0e-edce-477b-b874-773811e2ab1e",
   "metadata": {},
   "outputs": [
    {
     "name": "stdout",
     "output_type": "stream",
     "text": [
      "\n",
      "Creating main SKU110K dataset...\n",
      "Creating ImageDataset\n",
      "Create ImageDataset backing LRO: projects/385790973873/locations/us-central1/datasets/4152031334144933888/operations/1724127244164530176\n",
      "ImageDataset created. Resource name: projects/385790973873/locations/us-central1/datasets/4152031334144933888\n",
      "To use this ImageDataset in another session:\n",
      "ds = aiplatform.ImageDataset('projects/385790973873/locations/us-central1/datasets/4152031334144933888')\n",
      "Importing ImageDataset data: projects/385790973873/locations/us-central1/datasets/4152031334144933888\n",
      "Import ImageDataset data backing LRO: projects/385790973873/locations/us-central1/datasets/4152031334144933888/operations/6391545307980627968\n",
      "ImageDataset data imported. Resource name: projects/385790973873/locations/us-central1/datasets/4152031334144933888\n",
      "Dataset created: projects/385790973873/locations/us-central1/datasets/4152031334144933888\n"
     ]
    }
   ],
   "source": [
    "print(\"\\nCreating main SKU110K dataset...\")\n",
    "gcs_source = f\"gs://{BUCKET_NAME}/SKU110K_Kaggle\"\n",
    "\n",
    "dataset = aiplatform.ImageDataset.create(\n",
    "    display_name=\"SKU110K-Dataset\",\n",
    "    gcs_source=gcs_source,\n",
    "    import_schema_uri=aiplatform.schema.dataset.ioformat.image.bounding_box,\n",
    "    sync=True\n",
    ")\n",
    "\n",
    "print(f\"Dataset created: {dataset.resource_name}\")"
   ]
  },
  {
   "cell_type": "markdown",
   "id": "5df827b2-73fa-43fd-9cb8-03c6b323e9dd",
   "metadata": {},
   "source": [
    "### 5. Add comprehensive metadata"
   ]
  },
  {
   "cell_type": "code",
   "execution_count": 9,
   "id": "be1425dc-75e1-4b57-bd20-4733ca9356ef",
   "metadata": {},
   "outputs": [
    {
     "name": "stdout",
     "output_type": "stream",
     "text": [
      "\n",
      "Adding metadata to dataset...\n",
      "Successfully updated dataset metadata\n"
     ]
    }
   ],
   "source": [
    "print(\"\\nAdding metadata to dataset...\")\n",
    "try:\n",
    "    # Get split counts for metadata\n",
    "    storage_client = storage.Client(project=PROJECT_ID)\n",
    "    bucket = storage_client.get_bucket(BUCKET_NAME)\n",
    "    \n",
    "    def count_files(prefix):\n",
    "        blobs = list(bucket.list_blobs(prefix=prefix))\n",
    "        return len([blob for blob in blobs if not blob.name.endswith('/')])\n",
    "    \n",
    "    train_count = count_files('SKU110K_Kaggle/images/train/')\n",
    "    val_count = count_files('SKU110K_Kaggle/images/val/')\n",
    "    test_count = count_files('SKU110K_Kaggle/images/test/')\n",
    "    total_count = train_count + val_count + test_count\n",
    "    \n",
    "    # Update with rich metadata\n",
    "    dataset.update(\n",
    "        labels={\n",
    "            \"purpose\": \"retail_object_detection\",\n",
    "            \"project\": \"shelfscout\",\n",
    "            \"dataset_name\": \"sku110k\",\n",
    "            \"version\": \"1_0\",\n",
    "            \"splits\": \"train_val_test\",\n",
    "            \"train_count\": str(train_count),\n",
    "            \"val_count\": str(val_count),\n",
    "            \"test_count\": str(test_count),\n",
    "            \"total_images\": str(total_count)\n",
    "        }\n",
    "    )\n",
    "    print(\"Successfully updated dataset metadata\")\n",
    "except Exception as e:\n",
    "    print(f\"Error updating dataset metadata: {e}\")"
   ]
  },
  {
   "cell_type": "markdown",
   "id": "4f95492c-c7bb-4fd2-8096-d2b06fa7f4ea",
   "metadata": {},
   "source": [
    "### 6. Verify the dataset"
   ]
  },
  {
   "cell_type": "code",
   "execution_count": 10,
   "id": "da73ae77-dddb-4b3b-9ea8-2874aa32bbe4",
   "metadata": {},
   "outputs": [
    {
     "name": "stdout",
     "output_type": "stream",
     "text": [
      "\n",
      "Verifying dataset...\n",
      "Dataset verified:\n",
      "  Name: SKU110K-Dataset\n",
      "  Resource: projects/385790973873/locations/us-central1/datasets/4152031334144933888\n",
      "  Metadata: {'val_count': '584', 'test_count': '2920', 'purpose': 'retail_object_detection', 'dataset_name': 'sku110k', 'project': 'shelfscout', 'splits': 'train_val_test', 'train_count': '8185', 'version': '1_0', 'total_images': '11689'}\n"
     ]
    }
   ],
   "source": [
    "print(\"\\nVerifying dataset...\")\n",
    "datasets = aiplatform.ImageDataset.list(filter=\"display_name=SKU110K-Dataset\")\n",
    "if datasets:\n",
    "    verified_dataset = datasets[0]\n",
    "    print(f\"Dataset verified:\")\n",
    "    print(f\"  Name: {verified_dataset.display_name}\")\n",
    "    print(f\"  Resource: {verified_dataset.resource_name}\")\n",
    "    print(f\"  Metadata: {verified_dataset.labels}\")\n",
    "else:\n",
    "    print(\"Warning: Dataset not found in verification step\")"
   ]
  },
  {
   "cell_type": "markdown",
   "id": "ccb850cc-1479-4e0b-8bfb-48380fafdc3d",
   "metadata": {},
   "source": [
    "### 7. Save Dataset Information"
   ]
  },
  {
   "cell_type": "code",
   "execution_count": 11,
   "id": "b9ac00b0-aeaf-490b-975c-0cf51547a649",
   "metadata": {},
   "outputs": [
    {
     "name": "stdout",
     "output_type": "stream",
     "text": [
      "\n",
      "Saving dataset information...\n",
      "\n",
      "Dataset configuration complete!\n",
      "Dataset information saved to dataset_info.txt\n"
     ]
    }
   ],
   "source": [
    "print(\"\\nSaving dataset information...\")\n",
    "with open('dataset_info.txt', 'w') as f:\n",
    "    f.write(f\"SKU110K Dataset ID: {dataset.resource_name}\\n\")\n",
    "    f.write(f\"GCS Location: gs://{BUCKET_NAME}/SKU110K_Kaggle\\n\")\n",
    "    f.write(f\"Creation Time: {dataset.create_time}\\n\")\n",
    "    f.write(f\"Total Images: {total_count}\\n\")\n",
    "    f.write(f\"Train/Val/Test Split: {train_count}/{val_count}/{test_count}\\n\")\n",
    "\n",
    "print(\"\\nDataset configuration complete!\")\n",
    "print(f\"Dataset information saved to dataset_info.txt\")"
   ]
  },
  {
   "cell_type": "markdown",
   "id": "b442a6a4-3176-4582-85bc-f11029292ef5",
   "metadata": {},
   "source": [
    "### 8. Links to Vertex AI console"
   ]
  },
  {
   "cell_type": "code",
   "execution_count": 12,
   "id": "db215004-3389-4ae7-883b-e75ebe1b770f",
   "metadata": {},
   "outputs": [
    {
     "name": "stdout",
     "output_type": "stream",
     "text": [
      "\n",
      "You can view the dataset in the Vertex AI console:\n",
      "https://console.cloud.google.com/vertex-ai/datasets/projects/shelfscout/locations/us-central1\n"
     ]
    }
   ],
   "source": [
    "print(\"\\nYou can view the dataset in the Vertex AI console:\")\n",
    "print(f\"https://console.cloud.google.com/vertex-ai/datasets/projects/{PROJECT_ID}/locations/{REGION}\")"
   ]
  },
  {
   "cell_type": "code",
   "execution_count": null,
   "id": "da502051-cde9-4344-baea-246324c4bd24",
   "metadata": {},
   "outputs": [],
   "source": []
  }
 ],
 "metadata": {
  "environment": {
   "kernel": "conda-base-py",
   "name": "workbench-notebooks.m129",
   "type": "gcloud",
   "uri": "us-docker.pkg.dev/deeplearning-platform-release/gcr.io/workbench-notebooks:m129"
  },
  "kernelspec": {
   "display_name": "Python 3 (ipykernel) (Local)",
   "language": "python",
   "name": "conda-base-py"
  },
  "language_info": {
   "codemirror_mode": {
    "name": "ipython",
    "version": 3
   },
   "file_extension": ".py",
   "mimetype": "text/x-python",
   "name": "python",
   "nbconvert_exporter": "python",
   "pygments_lexer": "ipython3",
   "version": "3.10.16"
  }
 },
 "nbformat": 4,
 "nbformat_minor": 5
}
